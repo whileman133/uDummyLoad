{
 "cells": [
  {
   "cell_type": "markdown",
   "metadata": {},
   "source": [
    "# Fixed-Point Power Calaculation\n",
    "\n",
    "The following script determines the maximum error in the fixed-point power calculation routine loaded onto the PIC18 microcontroller."
   ]
  },
  {
   "cell_type": "code",
   "execution_count": 29,
   "metadata": {},
   "outputs": [
    {
     "name": "stdout",
     "output_type": "stream",
     "text": [
      "0.999022 mV\n",
      "1.96841 mW\n"
     ]
    }
   ],
   "source": [
    "import numpy as np\n",
    "from decimal import *\n",
    "getcontext().prec = 10\n",
    "\n",
    "error_millivolts = np.zeros((1024, 1024), dtype=np.float64)\n",
    "error_milliwatts = np.zeros((1024, 1024), dtype=np.float64)\n",
    "\n",
    "for divider in range(1024):\n",
    "    for diode in range(1024):        \n",
    "        vpeak_millivolts_ideal = (Decimal(divider) * Decimal(11) \n",
    "            + Decimal(diode)) * Decimal(4096) / Decimal(1023) + Decimal(17);\n",
    "        vpeak_millivolts_mcu = (np.uint32(divider) * np.uint32(11) \n",
    "            + np.uint32(diode)) * np.uint32(4096) // np.uint32(1023) + np.uint32(17);\n",
    "        power_milliwatts_ideal = vpeak_millivolts_ideal * vpeak_millivolts_ideal / Decimal(100000)\n",
    "        power_milliwatts_mcu = vpeak_millivolts_mcu * vpeak_millivolts_mcu // 100000\n",
    "        \n",
    "        error_millivolts[divider, diode] = float(vpeak_millivolts_ideal - Decimal(int(vpeak_millivolts_mcu)))\n",
    "        error_milliwatts[divider, diode] = float(power_milliwatts_ideal - Decimal(int(power_milliwatts_mcu)))\n",
    "        \n",
    "print(np.max(np.abs(error_millivolts)), 'mV')\n",
    "print(np.max(np.abs(error_milliwatts)), 'mW')"
   ]
  },
  {
   "cell_type": "code",
   "execution_count": 33,
   "metadata": {},
   "outputs": [
    {
     "name": "stdout",
     "output_type": "stream",
     "text": [
      "1024 1022\n"
     ]
    }
   ],
   "source": [
    "i = np.argmax(np.abs(error_milliwatts))\n",
    "print(i // 1024, i % 1024)"
   ]
  },
  {
   "cell_type": "code",
   "execution_count": null,
   "metadata": {},
   "outputs": [],
   "source": []
  }
 ],
 "metadata": {
  "kernelspec": {
   "display_name": "Python 3",
   "language": "python",
   "name": "python3"
  },
  "language_info": {
   "codemirror_mode": {
    "name": "ipython",
    "version": 3
   },
   "file_extension": ".py",
   "mimetype": "text/x-python",
   "name": "python",
   "nbconvert_exporter": "python",
   "pygments_lexer": "ipython3",
   "version": "3.7.4"
  }
 },
 "nbformat": 4,
 "nbformat_minor": 4
}
