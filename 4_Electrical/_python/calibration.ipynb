{
 "cells": [
  {
   "cell_type": "markdown",
   "metadata": {},
   "source": [
    "# Calibrating the Wattmeter\n",
    "\n",
    "The gain and offset errors in the peak voltage reading results in a nonlinear power calibration curve. Here, we consider using an nth order polynomial calibration.\n",
    "\n",
    "## Models\n",
    "\n",
    "Let $V_m$ and $P_m$ be the measured peak input voltage and power dissipation for a given input. We may represent the calibrated or actual peak input by\n",
    "\n",
    "$$ V_{pk} = V_0 + A V_m $$\n",
    "\n",
    "where $V_0$ and $A$ are the total offset and gain errors, respectively. The corrected power dissipation is then\n",
    "\n",
    "$$ P = \\frac{V_{pk}^2}{2 R_{load}} = \\frac{V_0^2}{2 R_{load}} + A V_0 \\sqrt{\\frac{2 P_m}{R_{load}}} + A^2 P_m $$\n",
    "\n",
    "which is a nonlinear function of $P_m$. In addition, the power reading will need to be further corrected to account for variation in the load resistance $R_{load}$, however we'll ignore this in the analysis below.\n",
    "\n",
    "## Example\n",
    "\n",
    "Suppose $V_0 = 0.6 V$ and $A = 1.05 V/V$. The resulting measurement error is about 2.7W at full scale as shown below."
   ]
  },
  {
   "cell_type": "code",
   "execution_count": 7,
   "metadata": {},
   "outputs": [
    {
     "data": {
      "image/png": "[encoded data removed]",
      "text/plain": [
       "<Figure size 432x288 with 1 Axes>"
      ]
     },
     "metadata": {
      "needs_background": "light"
     },
     "output_type": "display_data"
    }
   ],
   "source": [
    "import numpy as np\n",
    "import matplotlib.pyplot as plt\n",
    "\n",
    "V0 = 0.6\n",
    "A = 1.05\n",
    "Rload = 50.0\n",
    "\n",
    "PPm = np.linspace(0.25, 20, 1000)\n",
    "PP = V0 ** 2 / 2 / Rload + A * V0 * np.sqrt(2 * PPm / Rload) + A ** 2 * PPm\n",
    "\n",
    "plt.plot(PPm, np.abs(PP - PPm))\n",
    "plt.xlabel('Measured Power $P_m$ (W)')\n",
    "plt.ylabel('Error in Power Reading $\\Delta P_{err}$ (W)')\n",
    "plt.show()"
   ]
  },
  {
   "cell_type": "markdown",
   "metadata": {},
   "source": [
    "Now consider applying a 2nd degree polynomial calibration curve to the data."
   ]
  },
  {
   "cell_type": "code",
   "execution_count": 50,
   "metadata": {},
   "outputs": [
    {
     "name": "stdout",
     "output_type": "stream",
     "text": [
      "[ 1.07303041e+03  1.13972451e+04 -7.46081341e+00]\n"
     ]
    }
   ],
   "source": [
    "from numpy.polynomial import polynomial as P\n",
    "\n",
    "coeffs = P.polyfit(PPm, PP * 10_000, 2)\n",
    "print(coeffs)"
   ]
  },
  {
   "cell_type": "code",
   "execution_count": null,
   "metadata": {},
   "outputs": [],
   "source": []
  }
 ],
 "metadata": {
  "kernelspec": {
   "display_name": "Python 3",
   "language": "python",
   "name": "python3"
  },
  "language_info": {
   "codemirror_mode": {
    "name": "ipython",
    "version": 3
   },
   "file_extension": ".py",
   "mimetype": "text/x-python",
   "name": "python",
   "nbconvert_exporter": "python",
   "pygments_lexer": "ipython3",
   "version": "3.7.4"
  }
 },
 "nbformat": 4,
 "nbformat_minor": 4
}
